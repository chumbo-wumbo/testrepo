{
 "cells": [
  {
   "cell_type": "markdown",
   "id": "7fdad52c",
   "metadata": {},
   "source": [
    "<h1>My Jupyter Notebook on IBM Watson Studio</h1>"
   ]
  },
  {
   "cell_type": "markdown",
   "id": "8cc7ae27",
   "metadata": {},
   "source": [
    "<strong>Ksenia van Wickeren</strong><br>\n",
    "student/wannabe data scientist"
   ]
  },
  {
   "cell_type": "markdown",
   "id": "96526c40",
   "metadata": {},
   "source": [
    "<em>I am interested in data science because it's fun!<em>"
   ]
  },
  {
   "cell_type": "markdown",
   "id": "1d7aaa45",
   "metadata": {},
   "source": [
    "<h3>Code in cell 5 is gonna run a super simple math operation</h3>"
   ]
  },
  {
   "cell_type": "code",
   "execution_count": 2,
   "id": "6de2d41d",
   "metadata": {},
   "outputs": [
    {
     "data": {
      "text/plain": [
       "63"
      ]
     },
     "execution_count": 2,
     "metadata": {},
     "output_type": "execute_result"
    }
   ],
   "source": [
    "37+26"
   ]
  },
  {
   "cell_type": "markdown",
   "id": "ca2a5fd6",
   "metadata": {},
   "source": [
    "<ol>\n",
    "  <li>Candy</li>\n",
    "  <li>Cookies</li>\n",
    "  <li>Fruit</li>\n",
    "</ol> \n",
    "<a href=\"https://meatfreemondays.com/recipes/smoky-seitan-kebabs-with-peanut-sauce\">My dinner tonight!</a><br>\n",
    "<ul>\n",
    "  <li>Coffee</li>\n",
    "  <li>Tea</li>\n",
    "  <li>Milk</li>\n",
    "</ul>"
   ]
  }
 ],
 "metadata": {
  "kernelspec": {
   "display_name": "Python 3 (ipykernel)",
   "language": "python",
   "name": "python3"
  },
  "language_info": {
   "codemirror_mode": {
    "name": "ipython",
    "version": 3
   },
   "file_extension": ".py",
   "mimetype": "text/x-python",
   "name": "python",
   "nbconvert_exporter": "python",
   "pygments_lexer": "ipython3",
   "version": "3.9.7"
  }
 },
 "nbformat": 4,
 "nbformat_minor": 5
}
